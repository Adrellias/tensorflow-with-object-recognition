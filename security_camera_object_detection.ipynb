{
 "cells": [
  {
   "cell_type": "markdown",
   "metadata": {},
   "source": [
    "# Object Detection Demo\n",
    "Welcome to the object detection inference walkthrough!  This notebook will walk you step by step through the process of using a pre-trained model to detect objects in an image. Make sure to follow the [installation instructions](https://github.com/tensorflow/models/blob/master/research/object_detection/g3doc/installation.md) before you start."
   ]
  },
  {
   "cell_type": "markdown",
   "metadata": {},
   "source": [
    "# Imports"
   ]
  },
  {
   "cell_type": "code",
   "execution_count": null,
   "metadata": {
    "scrolled": true
   },
   "outputs": [],
   "source": [
    "import numpy as np\n",
    "import os\n",
    "import six.moves.urllib as urllib\n",
    "import sys\n",
    "import tarfile\n",
    "import tensorflow as tf\n",
    "import zipfile\n",
    "import cv2\n",
    "import imutils\n",
    "import matplotlib.pyplot as plt\n",
    "\n",
    "\n",
    "from collections import defaultdict\n",
    "from io import StringIO\n",
    "\n",
    "from PIL import Image\n",
    "\n",
    "# This is needed since the notebook is stored in the object_detection folder.\n",
    "sys.path.append(\"..\")\n",
    "from object_detection.utils import ops as utils_ops\n",
    "\n",
    "if tf.__version__ < '1.11.0':\n",
    "  raise ImportError('Please upgrade your tensorflow installation to v1.4.* or later!')\n"
   ]
  },
  {
   "cell_type": "markdown",
   "metadata": {},
   "source": [
    "## Env setup"
   ]
  },
  {
   "cell_type": "code",
   "execution_count": null,
   "metadata": {},
   "outputs": [],
   "source": [
    "# This is needed to display the images.\n",
    "%matplotlib auto"
   ]
  },
  {
   "cell_type": "markdown",
   "metadata": {},
   "source": [
    "## Object detection imports\n",
    "Here are the imports from the object detection module."
   ]
  },
  {
   "cell_type": "code",
   "execution_count": null,
   "metadata": {
    "scrolled": true
   },
   "outputs": [],
   "source": [
    "from utils import label_map_util\n",
    "\n",
    "from utils import visualization_utils as vis_util"
   ]
  },
  {
   "cell_type": "markdown",
   "metadata": {},
   "source": [
    "# Model preparation "
   ]
  },
  {
   "cell_type": "markdown",
   "metadata": {},
   "source": [
    "## Variables\n",
    "\n",
    "Any model exported using the `export_inference_graph.py` tool can be loaded here simply by changing `PATH_TO_CKPT` to point to a new .pb file.  \n",
    "\n",
    "By default we use an \"SSD with Mobilenet\" model here. See the [detection model zoo](https://github.com/tensorflow/models/blob/master/research/object_detection/g3doc/detection_model_zoo.md) for a list of other models that can be run out-of-the-box with varying speeds and accuracies."
   ]
  },
  {
   "cell_type": "code",
   "execution_count": null,
   "metadata": {},
   "outputs": [],
   "source": [
    "# What model to download.\n",
    "#MODEL_NAME = 'ssd_mobilenet_v1_coco_2017_11_17'\n",
    "#http://download.tensorflow.org/models/object_detection/ssdlite_mobilenet_v2_coco_2018_05_09.tar.gz\n",
    "#MODEL_NAME = 'ssdlite_mobilenet_v2_coco_2018_05_09'\n",
    "MODEL_NAME = 'ssdlite_mobilenet_v2_coco_2018_05_09'\n",
    "#MODEL_NAME = 'ssd_inception_v2_coco_2018_01_28'\n",
    "#http://download.tensorflow.org/models/object_detection/ssd_inception_v2_coco_2018_01_28.tar.gzMODE\n",
    "#MODEL_NAME = 'ssd_mobilenet_v2_coco_2018_03_29'\n",
    "MODEL_FILE = MODEL_NAME + '.tar.gz'\n",
    "DOWNLOAD_BASE = 'http://download.tensorflow.org/models/object_detection/'\n",
    "# Path to frozen detection graph. This is the actual model that is used for the object detection.\n",
    "PATH_TO_CKPT = MODEL_NAME + '/frozen_inference_graph.pb'\n",
    "\n",
    "# List of the strings that is used to add correct label for each box.\n",
    "PATH_TO_LABELS = os.path.join('data', 'mscoco_label_map.pbtxt')\n",
    "\n",
    "NUM_CLASSES = 90"
   ]
  },
  {
   "cell_type": "markdown",
   "metadata": {},
   "source": [
    "## Download Model"
   ]
  },
  {
   "cell_type": "code",
   "execution_count": null,
   "metadata": {},
   "outputs": [],
   "source": [
    "print(\"Is file downloaded? %s \" % os.path.isfile(MODEL_FILE))\n",
    "if not os.path.isfile(MODEL_FILE):\n",
    "    opener = urllib.request.URLopener()\n",
    "    opener.retrieve(DOWNLOAD_BASE + MODEL_FILE, MODEL_FILE)\n",
    "tar_file = tarfile.open(MODEL_FILE)\n",
    "for file in tar_file.getmembers():\n",
    "  file_name = os.path.basename(file.name)\n",
    "  if 'frozen_inference_graph.pb' in file_name:\n",
    "    tar_file.extract(file, os.getcwd())"
   ]
  },
  {
   "cell_type": "code",
   "execution_count": null,
   "metadata": {},
   "outputs": [],
   "source": [
    "def removeBackground(frame):\n",
    "\tglobal fgbg\n",
    "\tframeMasked = fgbg.apply(frame.copy())\n",
    "\n",
    "\tim2, contours, hierarchy = cv2.findContours(frameMasked, cv2.RETR_EXTERNAL, cv2.CHAIN_APPROX_SIMPLE)\n",
    "\n",
    "\t#framedMaskedWithoutContours = removeBadContours(frameMasked)\n",
    "\tframedMaskedWithoutContours = frameMasked\n",
    "\tim2, contours, hierarchy = cv2.findContours(framedMaskedWithoutContours, cv2.RETR_EXTERNAL, cv2.CHAIN_APPROX_SIMPLE)\n",
    "\tcv2.drawContours(framedMaskedWithoutContours, contours, -1, (255, 255, 255), 3)\n",
    "\tframedMaskedWithoutContours = cv2.cvtColor(framedMaskedWithoutContours, cv2.COLOR_GRAY2RGB)\n",
    "\n",
    "\n",
    "\treturn cv2.bitwise_and(frame, framedMaskedWithoutContours)\n",
    "\t#return frameMaskedAux"
   ]
  },
  {
   "cell_type": "markdown",
   "metadata": {},
   "source": [
    "## Load a (frozen) Tensorflow model into memory."
   ]
  },
  {
   "cell_type": "code",
   "execution_count": null,
   "metadata": {},
   "outputs": [],
   "source": [
    "\n",
    "# Load the Tensorflow model into memory.\n",
    "detection_graph = tf.Graph()\n",
    "with detection_graph.as_default():\n",
    "    od_graph_def = tf.GraphDef()\n",
    "    with tf.gfile.GFile(PATH_TO_CKPT, 'rb') as fid:\n",
    "        serialized_graph = fid.read()\n",
    "        od_graph_def.ParseFromString(serialized_graph)\n",
    "        tf.import_graph_def(od_graph_def, name='')\n",
    "\n",
    "    sess = tf.Session(graph=detection_graph)\n",
    "\n",
    "\n",
    "# Define input and output tensors (i.e. data) for the object detection classifier\n",
    "\n",
    "# Input tensor is the image\n",
    "image_tensor = detection_graph.get_tensor_by_name('image_tensor:0')\n",
    "\n",
    "# Output tensors are the detection boxes, scores, and classes\n",
    "# Each box represents a part of the image where a particular object was detected\n",
    "detection_boxes = detection_graph.get_tensor_by_name('detection_boxes:0')\n",
    "\n",
    "# Each score represents level of confidence for each of the objects.\n",
    "# The score is shown on the result image, together with the class label.\n",
    "detection_scores = detection_graph.get_tensor_by_name('detection_scores:0')\n",
    "detection_classes = detection_graph.get_tensor_by_name('detection_classes:0')\n",
    "\n",
    "# Number of objects detected\n",
    "num_detections = detection_graph.get_tensor_by_name('num_detections:0')"
   ]
  },
  {
   "cell_type": "markdown",
   "metadata": {},
   "source": [
    "## Loading label map\n",
    "Label maps map indices to category names, so that when our convolution network predicts `5`, we know that this corresponds to `airplane`.  Here we use internal utility functions, but anything that returns a dictionary mapping integers to appropriate string labels would be fine"
   ]
  },
  {
   "cell_type": "code",
   "execution_count": null,
   "metadata": {},
   "outputs": [],
   "source": [
    "label_map = label_map_util.load_labelmap(PATH_TO_LABELS)\n",
    "categories = label_map_util.convert_label_map_to_categories(label_map, max_num_classes=NUM_CLASSES, use_display_name=True)\n",
    "category_index = label_map_util.create_category_index(categories)"
   ]
  },
  {
   "cell_type": "markdown",
   "metadata": {},
   "source": [
    "## Helper code"
   ]
  },
  {
   "cell_type": "code",
   "execution_count": null,
   "metadata": {},
   "outputs": [],
   "source": [
    "def load_image_into_numpy_array(image):\n",
    "  (im_width, im_height) = image.size\n",
    "  return np.array(image.getdata()).reshape(\n",
    "      (im_height, im_width, 3)).astype(np.uint8)"
   ]
  },
  {
   "cell_type": "markdown",
   "metadata": {},
   "source": [
    "# Detection"
   ]
  },
  {
   "cell_type": "code",
   "execution_count": null,
   "metadata": {},
   "outputs": [],
   "source": [
    "# For the sake of simplicity we will use only 2 images:\n",
    "# image1.jpg\n",
    "# image2.jpg\n",
    "# If you want to test the code with your images, just add path to the images to the TEST_IMAGE_PATHS.\n",
    "PATH_TO_TEST_IMAGES_DIR = 'test_images'\n",
    "TEST_IMAGE_PATHS = [ os.path.join(PATH_TO_TEST_IMAGES_DIR, 'image{}.jpg'.format(i)) for i in range(1, 3) ]\n",
    "\n",
    "# Size, in inches, of the output images.\n",
    "IMAGE_SIZE = (12, 8)"
   ]
  },
  {
   "cell_type": "code",
   "execution_count": null,
   "metadata": {},
   "outputs": [],
   "source": [
    "avg = None\n",
    "def motionDetection(frame):\n",
    " global avg\n",
    " # resize the frame, convert it to grayscale, and blur it\n",
    " \n",
    " gray = cv2.cvtColor(frame, cv2.COLOR_BGR2GRAY)\n",
    " gray = cv2.GaussianBlur(gray, (21, 21), 0)\n",
    " # if the average frame is None, initialize it\n",
    " if avg is None:\n",
    "  print(\"[INFO] starting background model...\")\n",
    "  avg = gray.copy().astype(\"float\")\n",
    "  return False\n",
    "                            \n",
    " # accumulate the weighted average between the current frame and\n",
    " # previous frames, then compute the difference between the current\n",
    " # frame and running average\n",
    " cv2.accumulateWeighted(gray, avg, 0.5)\n",
    " frameDelta = cv2.absdiff(gray, cv2.convertScaleAbs(avg))\n",
    " # threshold the delta image, dilate the thresholded image to fill\n",
    " # in holes, then find contours on thresholded image\n",
    " thresh = cv2.threshold(frameDelta, 5, 255, cv2.THRESH_BINARY)[1]\n",
    " thresh = cv2.dilate(thresh, None, iterations=2)\n",
    " im2, contours, hierarchy = cv2.findContours(thresh.copy(), cv2.RETR_EXTERNAL,cv2.CHAIN_APPROX_SIMPLE)\n",
    " return contours != []                        "
   ]
  },
  {
   "cell_type": "code",
   "execution_count": null,
   "metadata": {},
   "outputs": [],
   "source": [
    "def run_inference_for_single_image(frame_expanded, graph):\n",
    "        # Perform the actual detection by running the model with the image as input\n",
    "      (boxes, scores, classes, num) = sess.run(\n",
    "            [detection_boxes, detection_scores, detection_classes, num_detections],\n",
    "            feed_dict={image_tensor: frame_expanded})\n",
    "\n",
    "      output_dict = {\n",
    "           \"detection_classes\":np.squeeze( classes).astype(np.int32),\n",
    "           \"detection_boxes\": boxes[0],\n",
    "           \"detection_scores\": np.squeeze(scores)\n",
    "       }     \n",
    "      return output_dict"
   ]
  },
  {
   "cell_type": "code",
   "execution_count": null,
   "metadata": {},
   "outputs": [],
   "source": [
    "# blocks until it finds the next video to analyse\n",
    "import os\n",
    "import time\n",
    "\n",
    "def isValidVideoFile(file):\n",
    "     cap = cv2.VideoCapture(file)\n",
    "     totalFrameCount = cap.get(cv2.CAP_PROP_FRAME_COUNT)\n",
    "     cap.release()\n",
    "     return totalFrameCount >0\n",
    "\n",
    "def wait_for_video( directory, time_limit=3600, check_interval=60 ):\n",
    "    '''Return next video file to process, if not keep checking once every check_interval seconds for time_limit seconds.\n",
    "    time_limit defaults to 1 hour\n",
    "    check_interval defaults to 1 minute\n",
    "    '''\n",
    "\n",
    "    now = time.time()\n",
    "    last_time = now + time_limit\n",
    "\n",
    "    while time.time() <= last_time:\n",
    "        print(\"Searching for new camera uploads\")\n",
    "        for root, dirs, files in os.walk(directory):\n",
    "           files = [ fi for fi in files if fi.endswith(\".mp4\") and not fi.startswith(\".\")  ]\n",
    "           for file in files:\n",
    "                filePath = os.path.join(root, file)\n",
    "               \n",
    "                if not os.path.isfile(filePath + '.processed') and \\ \n",
    "                        os.path.getsize(filePath) > 0 and \\\n",
    "                        isValidVideoFile(filePath):\n",
    "                    return filePath\n",
    " \n",
    "        # Wait for check interval seconds, then check again.\n",
    "        time.sleep( check_interval )\n",
    "\n",
    "    return None\n",
    "\n",
    "#wait_for_video( \"/data/videos/incoming\", 3600, 1 )"
   ]
  },
  {
   "cell_type": "code",
   "execution_count": null,
   "metadata": {},
   "outputs": [],
   "source": [
    "def moveVideoToArchive(file):\n",
    "    open(file + '.processed', 'w')"
   ]
  },
  {
   "cell_type": "code",
   "execution_count": null,
   "metadata": {},
   "outputs": [],
   "source": [
    "def detectPerson(output_dict, category_index):\n",
    "    result = False\n",
    "    classes = output_dict['detection_classes']  \n",
    "    for i in range(len(classes)):\n",
    "        score = output_dict['detection_scores'][i]\n",
    "        \n",
    "        label = category_index.get(classes[i])\n",
    "        if (score>0.5 and label['name'] == 'person' ):\n",
    "            result = True\n",
    "            break\n",
    "            \n",
    "    return result\n"
   ]
  },
  {
   "cell_type": "code",
   "execution_count": null,
   "metadata": {},
   "outputs": [],
   "source": [
    "import configparser\n",
    "\n",
    "Config = configparser.ConfigParser()\n",
    "Config.read(\"./config.ini\")\n",
    "\n",
    "def ConfigSectionMap(section):\n",
    "    dict1 = {}\n",
    "    options = Config.options(section)\n",
    "    print(options)\n",
    "    for option in options:\n",
    "        try:\n",
    "            dict1[option] = Config.get(section, option)\n",
    "            if dict1[option] == -1:\n",
    "                DebugPrint(\"skip: %s\" % option)\n",
    "        except:\n",
    "            print(\"exception on %s!\" % option)\n",
    "            dict1[option] = None\n",
    "    return dict1\n",
    "\n",
    "\n",
    "from slackclient import SlackClient\n",
    "import io\n",
    "slack_token = ConfigSectionMap(\"Slack\")['secrettoken']\n",
    "channel_id = ConfigSectionMap(\"Slack\")['channelid']\n",
    "sc = SlackClient(slack_token)\n",
    "\n",
    "\n",
    "def notifySlack(plt, image_np, image_no_background):\n",
    "    plt.imsave(\"/data/image_with_background.png\", image_np)\n",
    "    plt.imsave(\"/data/image_no_background.png\", image_no_background)\n",
    "    sc.api_call(\n",
    "      \"chat.postMessage\",\n",
    "      channel=channel_id,\n",
    "      text=\"Unidentified person detected in kitchen for file={}\".format(file)\n",
    "\n",
    "    )\n",
    "\n",
    "\n",
    "    with open('/data/image_with_background.png', 'rb') as f:\n",
    "        sc.api_call(\n",
    "            \"files.upload\",\n",
    "            channels=channel_id,\n",
    "            filename='snapshot1.png',\n",
    "            title='Detected Person',\n",
    "            initial_comment='Detected person by webcam. Is it anyone you know?',\n",
    "            file=io.BytesIO(f.read())\n",
    "        )\n",
    "    with open('/data/image_no_background.png', 'rb') as f:\n",
    "        sc.api_call(\n",
    "            \"files.upload\",\n",
    "            channels=channel_id,\n",
    "            filename='snapshot2.png',\n",
    "            title='Detected Person',\n",
    "            initial_comment='Detected person by webcam. Is it anyone you know?',\n",
    "            file=io.BytesIO(f.read())\n",
    "        )\n",
    "\n",
    "        \n",
    "    with open(file, 'rb') as f:\n",
    "        sc.api_call(\n",
    "            \"files.upload\",\n",
    "            channels=channel_id,\n",
    "            filename='$file',\n",
    "            title='Video with detected person',\n",
    "            initial_comment='Video with detected person',\n",
    "            file=io.BytesIO(f.read())\n",
    "        )\n"
   ]
  },
  {
   "cell_type": "code",
   "execution_count": null,
   "metadata": {},
   "outputs": [],
   "source": [
    "FRAMES_TO_SKIP = 19\n",
    "fgbg = None\n",
    "def processVideoFile(file):\n",
    "     global avg\n",
    "     global fgbg\n",
    "     cap = cv2.VideoCapture(file)\n",
    "     totalFrameCount = cap.get(cv2.CAP_PROP_FRAME_COUNT)\n",
    "     if totalFrameCount == 0:\n",
    "            print(\"Video file=%s not yet ready for processing. Skipping.\" % file)\n",
    "            return False\n",
    "     print(\"Processing video file with %d frames\" % totalFrameCount)\n",
    "\n",
    "     # reset motion detection for new video file\n",
    "     avg = None                    \n",
    "     motionDetected = False\n",
    "     fgbg = cv2.bgsegm.createBackgroundSubtractorMOG()\n",
    "     while True:\n",
    "        ret, image_np = cap.read()\n",
    "        currentFrame = cap.get(cv2.CAP_PROP_POS_FRAMES)\n",
    "       \n",
    "        print (\"Processing frame %d of %d for video file=%s\" % (currentFrame, totalFrameCount, file)) \n",
    "        if not ret:\n",
    "            cap.release()\n",
    "            break\n",
    "        image_np_reduced = imutils.resize(image_np, width=500)   \n",
    "        frameWithoutBackground = removeBackground(image_np_reduced)\n",
    "        # only apply the motion detection algorithm if motion hasn't yet been detected\n",
    "        if (motionDetection(image_np_reduced)):\n",
    "            print(\"motion detected - analysing image with Tf\")\n",
    "             # Expand dimensions since the model expects images to have shape: [1, None, None, 3]\n",
    "          \n",
    "            image_np_expanded = np.expand_dims(frameWithoutBackground, axis=0)\n",
    "             # Actual detection.\n",
    "            output_dict = run_inference_for_single_image(image_np_expanded, detection_graph)\n",
    "            # Visualization of the results of a detection.\n",
    "            if detectPerson(output_dict,category_index):\n",
    "                print (\"detected person\")\n",
    "                image_np.setflags(write=1)\n",
    "                vis_util.visualize_boxes_and_labels_on_image_array(\n",
    "                    image_np_reduced,\n",
    "                    output_dict['detection_boxes'],\n",
    "                    output_dict['detection_classes'],\n",
    "                    output_dict['detection_scores'],\n",
    "                    category_index,\n",
    "                    use_normalized_coordinates=True,\n",
    "                    line_thickness=8,\n",
    "                    min_score_thresh=0.40)\n",
    "\n",
    "\n",
    "                #plt.figure(figsize=IMAGE_SIZE)\n",
    "                #plt.imshow(image_np)\n",
    "                notifySlack(plt, image_np_reduced,frameWithoutBackground)\n",
    "\n",
    "                break\n",
    "            \n",
    "        # skips frames as the rate of the camera is 20 fps\n",
    "        nextFrame = min(currentFrame + FRAMES_TO_SKIP, totalFrameCount)\n",
    "        cap.set(cv2.CAP_PROP_POS_FRAMES, nextFrame)  \n",
    "     return True"
   ]
  },
  {
   "cell_type": "code",
   "execution_count": null,
   "metadata": {
    "scrolled": true
   },
   "outputs": [],
   "source": [
    "while True:\n",
    "\n",
    "  file = wait_for_video( \"/data/videos/incoming\", 3600 * 354, 1 ) \n",
    "\n",
    "  if file is None:\n",
    "    break\n",
    "  \n",
    "  result = processVideoFile(file)\n",
    "  \n",
    "  if result:\n",
    "        moveVideoToArchive(file)"
   ]
  },
  {
   "cell_type": "code",
   "execution_count": null,
   "metadata": {},
   "outputs": [],
   "source": []
  },
  {
   "cell_type": "code",
   "execution_count": null,
   "metadata": {},
   "outputs": [],
   "source": []
  }
 ],
 "metadata": {
  "colab": {
   "version": "0.3.2"
  },
  "kernelspec": {
   "display_name": "Python 3",
   "language": "python",
   "name": "python3"
  },
  "language_info": {
   "codemirror_mode": {
    "name": "ipython",
    "version": 3
   },
   "file_extension": ".py",
   "mimetype": "text/x-python",
   "name": "python",
   "nbconvert_exporter": "python",
   "pygments_lexer": "ipython3",
   "version": "3.5.3"
  }
 },
 "nbformat": 4,
 "nbformat_minor": 2
}
